{
 "cells": [
  {
   "cell_type": "code",
   "execution_count": 2,
   "id": "d39062de",
   "metadata": {},
   "outputs": [],
   "source": [
    "from pathlib import Path\n",
    "import os, sys\n",
    "import django\n",
    "PROJECTPATH = str(Path.cwd().parent)\n",
    "sys.path.insert(0, PROJECTPATH)\n",
    "os.environ.setdefault(\"DJANGO_SETTINGS_MODULE\", \"mock.settings\")\n",
    "os.environ[\"DJANGO_ALLOW_ASYNC_UNSAFE\"] = \"true\"\n",
    "os.chdir(PROJECTPATH)\n",
    "django.setup()"
   ]
  },
  {
   "cell_type": "code",
   "execution_count": 3,
   "metadata": {},
   "outputs": [],
   "source": [
    "from v1.exam.serializers import  QuestionSolutionSerializer\n",
    "from v1.exam.models import ExamHistory, ExamSession, ExamType\n",
    "from rest_framework import serializers\n",
    "from rest_framework.response import Response\n",
    "import json\n",
    "session_id = \"ENR000003000004\"\n",
    "session_inst = ExamSession.objects.get(session_id=session_id)\n"
   ]
  },
  {
   "cell_type": "code",
   "execution_count": 10,
   "id": "ba73324b",
   "metadata": {},
   "outputs": [],
   "source": [
    "class AnswerResponseSerializer(serializers.ModelSerializer):\n",
    "    question_details = QuestionSolutionSerializer(source=\"question\")\n",
    "    selected_answer = serializers.CharField()\n",
    "    is_correct = serializers.CharField()\n",
    "\n",
    "    class Meta:\n",
    "        model = ExamHistory\n",
    "        fields = (\n",
    "            \"question_details\",\n",
    "            \"selected_answer\",\n",
    "            \"is_correct\",\n",
    "        )\n",
    "\n",
    "class ExamSessionSerializer(serializers.ModelSerializer):\n",
    "    exam_date = serializers.SerializerMethodField()\n",
    "    other_data = serializers.SerializerMethodField()\n",
    "    class Meta:\n",
    "        model = ExamSession\n",
    "        fields = (\n",
    "            \"session_id\",\n",
    "            \"user_exam_type\",\n",
    "            \"time_consumed\",\n",
    "            \"status\",\n",
    "            \"exam_date\",\n",
    "            \"other_data\"\n",
    "        )\n",
    "\n",
    "    def get_exam_date(self, obj):\n",
    "        return obj.exam_histories.last().exam_date\n",
    "    \n",
    "    def get_other_data(self, obj):\n",
    "        query_set = obj.exam_histories.all()\n",
    "        return AnswerResponseSerializer(\n",
    "                query_set,\n",
    "                many=True,\n",
    "            ).data\n",
    "\n",
    "# query_set = ExamHistory.objects.filter(exam_session__session_id=session_id)\n",
    "\n",
    "# serializer = AnswerResponseSerializer(\n",
    "#                 query_set,\n",
    "#                 many=True,\n",
    "#             )\n",
    "serializer2 = ExamSessionSerializer(session_inst)\n",
    "\n",
    "# json.dumps(serializer2.data)"
   ]
  },
  {
   "cell_type": "code",
   "execution_count": 11,
   "id": "e21f5069",
   "metadata": {},
   "outputs": [
    {
     "data": {
      "text/plain": [
       "{'session_id': 'ENR000003000004', 'user_exam_type': 5, 'time_consumed': 3600, 'status': 'C', 'exam_date': datetime.datetime(2023, 4, 20, 13, 49, 16, 909631, tzinfo=datetime.timezone.utc), 'other_data': [OrderedDict([('question_details', OrderedDict([('id', 14), ('question', 'This is a sample question for FUNCTION for 2 difficulty level with no attachment'), ('option_a', 'this is option a'), ('option_b', 'this is option b'), ('option_c', 'this is option c'), ('option_d', 'this is option d'), ('topic_id', 4), ('topic_name', 'FUNCTION'), ('subject_name', 'MATHEMATICS'), ('marks', 1), ('has_attachment', False), ('question_attachments', []), ('solutions', OrderedDict([('id', 14), ('question_id', 14), ('correct_answer', 'c'), ('detailed_answer', 'This is a question 14 solution'), ('has_attachment', True), ('hint_answer', None), ('solution_attachments', [OrderedDict([('name', 'path/for/solution_id14/for/topic/FUNCTION'), ('attachment_url', 'http://mocktest.commedia/path/for/solution_id14/for/topic/FUNCTION')])])]))])), ('selected_answer', 'a'), ('is_correct', 'False')]), OrderedDict([('question_details', OrderedDict([('id', 15), ('question', 'This is a sample question for ALGEBRA for 2 difficulty level with no attachment'), ('option_a', 'this is option a'), ('option_b', 'this is option b'), ('option_c', 'this is option c'), ('option_d', 'this is option d'), ('topic_id', 5), ('topic_name', 'ALGEBRA'), ('subject_name', 'MATHEMATICS'), ('marks', 1), ('has_attachment', False), ('question_attachments', []), ('solutions', OrderedDict([('id', 15), ('question_id', 15), ('correct_answer', 'd'), ('detailed_answer', 'This is a question 15 solution'), ('has_attachment', False), ('hint_answer', None), ('solution_attachments', [])]))])), ('selected_answer', 'b'), ('is_correct', 'False')]), OrderedDict([('question_details', OrderedDict([('id', 75), ('question', 'This is a sample question for ALGEBRA for 4 difficulty level with no attachment'), ('option_a', 'this is option a'), ('option_b', 'this is option b'), ('option_c', 'this is option c'), ('option_d', 'this is option d'), ('topic_id', 5), ('topic_name', 'ALGEBRA'), ('subject_name', 'MATHEMATICS'), ('marks', 2), ('has_attachment', False), ('question_attachments', []), ('solutions', OrderedDict([('id', 75), ('question_id', 75), ('correct_answer', 'a'), ('detailed_answer', 'This is a question 75 solution'), ('has_attachment', True), ('hint_answer', None), ('solution_attachments', [OrderedDict([('name', 'path/for/solution_id75/for/topic/ALGEBRA'), ('attachment_url', 'http://mocktest.commedia/path/for/solution_id75/for/topic/ALGEBRA')])])]))])), ('selected_answer', 'c'), ('is_correct', 'False')]), OrderedDict([('question_details', OrderedDict([('id', 6), ('question', 'This is a sample question for TRIGONOMETRY for 2 difficulty level with None attachment'), ('option_a', 'this is option a'), ('option_b', 'this is option b'), ('option_c', 'this is option c'), ('option_d', 'this is option d'), ('topic_id', 6), ('topic_name', 'TRIGONOMETRY'), ('subject_name', 'MATHEMATICS'), ('marks', 1), ('has_attachment', True), ('question_attachments', [OrderedDict([('name', 'path/for/quesiton_id6/for/topic/TRIGONOMETRY'), ('attachment_url', 'http://mocktest.commedia/path/for/quesiton_id6/for/topic/TRIGONOMETRY')])]), ('solutions', OrderedDict([('id', 6), ('question_id', 6), ('correct_answer', 'b'), ('detailed_answer', 'This is a question 6 solution'), ('has_attachment', False), ('hint_answer', None), ('solution_attachments', [])]))])), ('selected_answer', 'b'), ('is_correct', 'True')]), OrderedDict([('question_details', OrderedDict([('id', 46), ('question', 'This is a sample question for TRIGONOMETRY for 2 difficulty level with None attachment'), ('option_a', 'this is option a'), ('option_b', 'this is option b'), ('option_c', 'this is option c'), ('option_d', 'this is option d'), ('topic_id', 6), ('topic_name', 'TRIGONOMETRY'), ('subject_name', 'MATHEMATICS'), ('marks', 1), ('has_attachment', True), ('question_attachments', [OrderedDict([('name', 'path/for/quesiton_id46/for/topic/TRIGONOMETRY'), ('attachment_url', 'http://mocktest.commedia/path/for/quesiton_id46/for/topic/TRIGONOMETRY')])]), ('solutions', OrderedDict([('id', 46), ('question_id', 46), ('correct_answer', 'd'), ('detailed_answer', 'This is a question 46 solution'), ('has_attachment', True), ('hint_answer', None), ('solution_attachments', [OrderedDict([('name', 'path/for/solution_id46/for/topic/TRIGONOMETRY'), ('attachment_url', 'http://mocktest.commedia/path/for/solution_id46/for/topic/TRIGONOMETRY')])])]))])), ('selected_answer', None), ('is_correct', 'False')]), OrderedDict([('question_details', OrderedDict([('id', 57), ('question', 'This is a sample question for COORDINATE GEOMETRY for 2 difficulty level with no attachment'), ('option_a', 'this is option a'), ('option_b', 'this is option b'), ('option_c', 'this is option c'), ('option_d', 'this is option d'), ('topic_id', 7), ('topic_name', 'COORDINATE GEOMETRY'), ('subject_name', 'MATHEMATICS'), ('marks', 1), ('has_attachment', False), ('question_attachments', []), ('solutions', OrderedDict([('id', 57), ('question_id', 57), ('correct_answer', 'c'), ('detailed_answer', 'This is a question 57 solution'), ('has_attachment', True), ('hint_answer', None), ('solution_attachments', [OrderedDict([('name', 'path/for/solution_id57/for/topic/COORDINATE GEOMETRY'), ('attachment_url', 'http://mocktest.commedia/path/for/solution_id57/for/topic/COORDINATE GEOMETRY')])])]))])), ('selected_answer', 'c'), ('is_correct', 'True')]), OrderedDict([('question_details', OrderedDict([('id', 7), ('question', 'This is a sample question for COORDINATE GEOMETRY for 2 difficulty level with None attachment'), ('option_a', 'this is option a'), ('option_b', 'this is option b'), ('option_c', 'this is option c'), ('option_d', 'this is option d'), ('topic_id', 7), ('topic_name', 'COORDINATE GEOMETRY'), ('subject_name', 'MATHEMATICS'), ('marks', 1), ('has_attachment', True), ('question_attachments', [OrderedDict([('name', 'path/for/quesiton_id7/for/topic/COORDINATE GEOMETRY'), ('attachment_url', 'http://mocktest.commedia/path/for/quesiton_id7/for/topic/COORDINATE GEOMETRY')])]), ('solutions', OrderedDict([('id', 7), ('question_id', 7), ('correct_answer', 'c'), ('detailed_answer', 'This is a question 7 solution'), ('has_attachment', True), ('hint_answer', None), ('solution_attachments', [OrderedDict([('name', 'path/for/solution_id7/for/topic/COORDINATE GEOMETRY'), ('attachment_url', 'http://mocktest.commedia/path/for/solution_id7/for/topic/COORDINATE GEOMETRY')])])]))])), ('selected_answer', 'd'), ('is_correct', 'False')]), OrderedDict([('question_details', OrderedDict([('id', 67), ('question', 'This is a sample question for COORDINATE GEOMETRY for 4 difficulty level with None attachment'), ('option_a', 'this is option a'), ('option_b', 'this is option b'), ('option_c', 'this is option c'), ('option_d', 'this is option d'), ('topic_id', 7), ('topic_name', 'COORDINATE GEOMETRY'), ('subject_name', 'MATHEMATICS'), ('marks', 2), ('has_attachment', True), ('question_attachments', [OrderedDict([('name', 'path/for/quesiton_id67/for/topic/COORDINATE GEOMETRY'), ('attachment_url', 'http://mocktest.commedia/path/for/quesiton_id67/for/topic/COORDINATE GEOMETRY')])]), ('solutions', OrderedDict([('id', 67), ('question_id', 67), ('correct_answer', 'c'), ('detailed_answer', 'This is a question 67 solution'), ('has_attachment', True), ('hint_answer', None), ('solution_attachments', [OrderedDict([('name', 'path/for/solution_id67/for/topic/COORDINATE GEOMETRY'), ('attachment_url', 'http://mocktest.commedia/path/for/solution_id67/for/topic/COORDINATE GEOMETRY')])])]))])), ('selected_answer', None), ('is_correct', 'False')]), OrderedDict([('question_details', OrderedDict([('id', 51), ('question', 'This is a sample question for HYDROGEN for 2 difficulty level with no attachment'), ('option_a', 'this is option a'), ('option_b', 'this is option b'), ('option_c', 'this is option c'), ('option_d', 'this is option d'), ('topic_id', 1), ('topic_name', 'HYDROGEN'), ('subject_name', 'CHEMISTRY'), ('marks', 1), ('has_attachment', False), ('question_attachments', []), ('solutions', OrderedDict([('id', 51), ('question_id', 51), ('correct_answer', 'b'), ('detailed_answer', 'This is a question 51 solution'), ('has_attachment', False), ('hint_answer', None), ('solution_attachments', [])]))])), ('selected_answer', None), ('is_correct', 'False')]), OrderedDict([('question_details', OrderedDict([('id', 11), ('question', 'This is a sample question for HYDROGEN for 2 difficulty level with no attachment'), ('option_a', 'this is option a'), ('option_b', 'this is option b'), ('option_c', 'this is option c'), ('option_d', 'this is option d'), ('topic_id', 1), ('topic_name', 'HYDROGEN'), ('subject_name', 'CHEMISTRY'), ('marks', 1), ('has_attachment', False), ('question_attachments', []), ('solutions', OrderedDict([('id', 11), ('question_id', 11), ('correct_answer', 'b'), ('detailed_answer', 'This is a question 11 solution'), ('has_attachment', True), ('hint_answer', None), ('solution_attachments', [OrderedDict([('name', 'path/for/solution_id11/for/topic/HYDROGEN'), ('attachment_url', 'http://mocktest.commedia/path/for/solution_id11/for/topic/HYDROGEN')])])]))])), ('selected_answer', None), ('is_correct', 'False')]), OrderedDict([('question_details', OrderedDict([('id', 61), ('question', 'This is a sample question for HYDROGEN for 4 difficulty level with None attachment'), ('option_a', 'this is option a'), ('option_b', 'this is option b'), ('option_c', 'this is option c'), ('option_d', 'this is option d'), ('topic_id', 1), ('topic_name', 'HYDROGEN'), ('subject_name', 'CHEMISTRY'), ('marks', 2), ('has_attachment', True), ('question_attachments', [OrderedDict([('name', 'path/for/quesiton_id61/for/topic/HYDROGEN'), ('attachment_url', 'http://mocktest.commedia/path/for/quesiton_id61/for/topic/HYDROGEN')])]), ('solutions', OrderedDict([('id', 61), ('question_id', 61), ('correct_answer', 'd'), ('detailed_answer', 'This is a question 61 solution'), ('has_attachment', True), ('hint_answer', None), ('solution_attachments', [OrderedDict([('name', 'path/for/solution_id61/for/topic/HYDROGEN'), ('attachment_url', 'http://mocktest.commedia/path/for/solution_id61/for/topic/HYDROGEN')])])]))])), ('selected_answer', None), ('is_correct', 'False')]), OrderedDict([('question_details', OrderedDict([('id', 12), ('question', 'This is a sample question for ATOMIC STRUCTURE for 2 difficulty level with no attachment'), ('option_a', 'this is option a'), ('option_b', 'this is option b'), ('option_c', 'this is option c'), ('option_d', 'this is option d'), ('topic_id', 2), ('topic_name', 'ATOMIC STRUCTURE'), ('subject_name', 'CHEMISTRY'), ('marks', 1), ('has_attachment', False), ('question_attachments', []), ('solutions', OrderedDict([('id', 12), ('question_id', 12), ('correct_answer', 'b'), ('detailed_answer', 'This is a question 12 solution'), ('has_attachment', True), ('hint_answer', None), ('solution_attachments', [OrderedDict([('name', 'path/for/solution_id12/for/topic/ATOMIC STRUCTURE'), ('attachment_url', 'http://mocktest.commedia/path/for/solution_id12/for/topic/ATOMIC STRUCTURE')])])]))])), ('selected_answer', None), ('is_correct', 'False')]), OrderedDict([('question_details', OrderedDict([('id', 2), ('question', 'This is a sample question for ATOMIC STRUCTURE for 2 difficulty level with None attachment'), ('option_a', 'this is option a'), ('option_b', 'this is option b'), ('option_c', 'this is option c'), ('option_d', 'this is option d'), ('topic_id', 2), ('topic_name', 'ATOMIC STRUCTURE'), ('subject_name', 'CHEMISTRY'), ('marks', 1), ('has_attachment', True), ('question_attachments', [OrderedDict([('name', 'path/for/quesiton_id2/for/topic/ATOMIC STRUCTURE'), ('attachment_url', 'http://mocktest.commedia/path/for/quesiton_id2/for/topic/ATOMIC STRUCTURE')]), OrderedDict([('name', 'path/for/quesiton_id2/for/topic/ATOMIC STRUCTURE'), ('attachment_url', 'http://mocktest.commedia/path/for/quesiton_id2/for/topic/ATOMIC STRUCTURE')])]), ('solutions', OrderedDict([('id', 2), ('question_id', 2), ('correct_answer', 'b'), ('detailed_answer', 'This is a question 2 solution'), ('has_attachment', True), ('hint_answer', None), ('solution_attachments', [OrderedDict([('name', 'path/for/solution_id2/for/topic/ATOMIC STRUCTURE'), ('attachment_url', 'http://mocktest.commedia/path/for/solution_id2/for/topic/ATOMIC STRUCTURE')])])]))])), ('selected_answer', None), ('is_correct', 'False')]), OrderedDict([('question_details', OrderedDict([('id', 72), ('question', 'This is a sample question for ATOMIC STRUCTURE for 4 difficulty level with no attachment'), ('option_a', 'this is option a'), ('option_b', 'this is option b'), ('option_c', 'this is option c'), ('option_d', 'this is option d'), ('topic_id', 2), ('topic_name', 'ATOMIC STRUCTURE'), ('subject_name', 'CHEMISTRY'), ('marks', 2), ('has_attachment', False), ('question_attachments', []), ('solutions', OrderedDict([('id', 72), ('question_id', 72), ('correct_answer', 'd'), ('detailed_answer', 'This is a question 72 solution'), ('has_attachment', False), ('hint_answer', None), ('solution_attachments', [])]))])), ('selected_answer', None), ('is_correct', 'False')]), OrderedDict([('question_details', OrderedDict([('id', 53), ('question', 'This is a sample question for OXIDATION AND REDUCTION for 2 difficulty level with no attachment'), ('option_a', 'this is option a'), ('option_b', 'this is option b'), ('option_c', 'this is option c'), ('option_d', 'this is option d'), ('topic_id', 3), ('topic_name', 'OXIDATION AND REDUCTION'), ('subject_name', 'CHEMISTRY'), ('marks', 1), ('has_attachment', False), ('question_attachments', []), ('solutions', OrderedDict([('id', 53), ('question_id', 53), ('correct_answer', 'd'), ('detailed_answer', 'This is a question 53 solution'), ('has_attachment', True), ('hint_answer', None), ('solution_attachments', [OrderedDict([('name', 'path/for/solution_id53/for/topic/OXIDATION AND REDUCTION'), ('attachment_url', 'http://mocktest.commedia/path/for/solution_id53/for/topic/OXIDATION AND REDUCTION')])])]))])), ('selected_answer', None), ('is_correct', 'False')]), OrderedDict([('question_details', OrderedDict([('id', 63), ('question', 'This is a sample question for OXIDATION AND REDUCTION for 4 difficulty level with None attachment'), ('option_a', 'this is option a'), ('option_b', 'this is option b'), ('option_c', 'this is option c'), ('option_d', 'this is option d'), ('topic_id', 3), ('topic_name', 'OXIDATION AND REDUCTION'), ('subject_name', 'CHEMISTRY'), ('marks', 2), ('has_attachment', True), ('question_attachments', [OrderedDict([('name', 'path/for/quesiton_id63/for/topic/OXIDATION AND REDUCTION'), ('attachment_url', 'http://mocktest.commedia/path/for/quesiton_id63/for/topic/OXIDATION AND REDUCTION')])]), ('solutions', OrderedDict([('id', 63), ('question_id', 63), ('correct_answer', 'd'), ('detailed_answer', 'This is a question 63 solution'), ('has_attachment', True), ('hint_answer', None), ('solution_attachments', [OrderedDict([('name', 'path/for/solution_id63/for/topic/OXIDATION AND REDUCTION'), ('attachment_url', 'http://mocktest.commedia/path/for/solution_id63/for/topic/OXIDATION AND REDUCTION')])])]))])), ('selected_answer', None), ('is_correct', 'False')]), OrderedDict([('question_details', OrderedDict([('id', 33), ('question', 'This is a sample question for OXIDATION AND REDUCTION for 4 difficulty level with no attachment'), ('option_a', 'this is option a'), ('option_b', 'this is option b'), ('option_c', 'this is option c'), ('option_d', 'this is option d'), ('topic_id', 3), ('topic_name', 'OXIDATION AND REDUCTION'), ('subject_name', 'CHEMISTRY'), ('marks', 2), ('has_attachment', False), ('question_attachments', []), ('solutions', OrderedDict([('id', 33), ('question_id', 33), ('correct_answer', 'd'), ('detailed_answer', 'This is a question 33 solution'), ('has_attachment', True), ('hint_answer', None), ('solution_attachments', [OrderedDict([('name', 'path/for/solution_id33/for/topic/OXIDATION AND REDUCTION'), ('attachment_url', 'http://mocktest.commedia/path/for/solution_id33/for/topic/OXIDATION AND REDUCTION')])])]))])), ('selected_answer', None), ('is_correct', 'False')]), OrderedDict([('question_details', OrderedDict([('id', 48), ('question', 'This is a sample question for THERMODYNAMCIS for 2 difficulty level with None attachment'), ('option_a', 'this is option a'), ('option_b', 'this is option b'), ('option_c', 'this is option c'), ('option_d', 'this is option d'), ('topic_id', 8), ('topic_name', 'THERMODYNAMCIS'), ('subject_name', 'PHYSICS'), ('marks', 1), ('has_attachment', True), ('question_attachments', [OrderedDict([('name', 'path/for/quesiton_id48/for/topic/THERMODYNAMCIS'), ('attachment_url', 'http://mocktest.commedia/path/for/quesiton_id48/for/topic/THERMODYNAMCIS')])]), ('solutions', OrderedDict([('id', 48), ('question_id', 48), ('correct_answer', 'd'), ('detailed_answer', 'This is a question 48 solution'), ('has_attachment', False), ('hint_answer', None), ('solution_attachments', [])]))])), ('selected_answer', None), ('is_correct', 'False')]), OrderedDict([('question_details', OrderedDict([('id', 68), ('question', 'This is a sample question for THERMODYNAMCIS for 4 difficulty level with None attachment'), ('option_a', 'this is option a'), ('option_b', 'this is option b'), ('option_c', 'this is option c'), ('option_d', 'this is option d'), ('topic_id', 8), ('topic_name', 'THERMODYNAMCIS'), ('subject_name', 'PHYSICS'), ('marks', 2), ('has_attachment', True), ('question_attachments', [OrderedDict([('name', 'path/for/quesiton_id68/for/topic/THERMODYNAMCIS'), ('attachment_url', 'http://mocktest.commedia/path/for/quesiton_id68/for/topic/THERMODYNAMCIS')])]), ('solutions', OrderedDict([('id', 68), ('question_id', 68), ('correct_answer', 'b'), ('detailed_answer', 'This is a question 68 solution'), ('has_attachment', False), ('hint_answer', None), ('solution_attachments', [])]))])), ('selected_answer', None), ('is_correct', 'False')]), OrderedDict([('question_details', OrderedDict([('id', 19), ('question', 'This is a sample question for MECHANICS for 2 difficulty level with no attachment'), ('option_a', 'this is option a'), ('option_b', 'this is option b'), ('option_c', 'this is option c'), ('option_d', 'this is option d'), ('topic_id', 9), ('topic_name', 'MECHANICS'), ('subject_name', 'PHYSICS'), ('marks', 1), ('has_attachment', False), ('question_attachments', []), ('solutions', OrderedDict([('id', 19), ('question_id', 19), ('correct_answer', 'a'), ('detailed_answer', 'This is a question 19 solution'), ('has_attachment', True), ('hint_answer', None), ('solution_attachments', [OrderedDict([('name', 'path/for/solution_id19/for/topic/MECHANICS'), ('attachment_url', 'http://mocktest.commedia/path/for/solution_id19/for/topic/MECHANICS')])])]))])), ('selected_answer', 'a'), ('is_correct', 'True')]), OrderedDict([('question_details', OrderedDict([('id', 39), ('question', 'This is a sample question for MECHANICS for 4 difficulty level with no attachment'), ('option_a', 'this is option a'), ('option_b', 'this is option b'), ('option_c', 'this is option c'), ('option_d', 'this is option d'), ('topic_id', 9), ('topic_name', 'MECHANICS'), ('subject_name', 'PHYSICS'), ('marks', 2), ('has_attachment', False), ('question_attachments', []), ('solutions', OrderedDict([('id', 39), ('question_id', 39), ('correct_answer', 'd'), ('detailed_answer', 'This is a question 39 solution'), ('has_attachment', False), ('hint_answer', None), ('solution_attachments', [])]))])), ('selected_answer', 'a'), ('is_correct', 'False')]), OrderedDict([('question_details', OrderedDict([('id', 10), ('question', 'This is a sample question for OPTICS for 2 difficulty level with None attachment'), ('option_a', 'this is option a'), ('option_b', 'this is option b'), ('option_c', 'this is option c'), ('option_d', 'this is option d'), ('topic_id', 10), ('topic_name', 'OPTICS'), ('subject_name', 'PHYSICS'), ('marks', 1), ('has_attachment', True), ('question_attachments', [OrderedDict([('name', 'path/for/quesiton_id10/for/topic/OPTICS'), ('attachment_url', 'http://mocktest.commedia/path/for/quesiton_id10/for/topic/OPTICS')])]), ('solutions', OrderedDict([('id', 10), ('question_id', 10), ('correct_answer', 'c'), ('detailed_answer', 'This is a question 10 solution'), ('has_attachment', True), ('hint_answer', None), ('solution_attachments', [OrderedDict([('name', 'path/for/solution_id10/for/topic/OPTICS'), ('attachment_url', 'http://mocktest.commedia/path/for/solution_id10/for/topic/OPTICS')])])]))])), ('selected_answer', 'a'), ('is_correct', 'False')])]}"
      ]
     },
     "execution_count": 11,
     "metadata": {},
     "output_type": "execute_result"
    }
   ],
   "source": [
    "serializer2.data"
   ]
  },
  {
   "cell_type": "code",
   "execution_count": 19,
   "id": "101028b1",
   "metadata": {},
   "outputs": [
    {
     "data": {
      "text/plain": [
       "datetime.datetime(2023, 4, 20, 13, 49, 16, 909631, tzinfo=datetime.timezone.utc)"
      ]
     },
     "execution_count": 19,
     "metadata": {},
     "output_type": "execute_result"
    }
   ],
   "source": [
    "session_inst.exam_histories.last().exam_date"
   ]
  },
  {
   "cell_type": "code",
   "execution_count": null,
   "id": "c537fb97",
   "metadata": {},
   "outputs": [],
   "source": [
    "\n"
   ]
  },
  {
   "cell_type": "code",
   "execution_count": null,
   "id": "5d05d307",
   "metadata": {},
   "outputs": [],
   "source": [
    "a = session_inst.exam_histories.all()"
   ]
  },
  {
   "cell_type": "code",
   "execution_count": null,
   "id": "cc9b8447",
   "metadata": {},
   "outputs": [],
   "source": []
  }
 ],
 "metadata": {
  "kernelspec": {
   "display_name": "env",
   "language": "python",
   "name": "python3"
  },
  "language_info": {
   "codemirror_mode": {
    "name": "ipython",
    "version": 3
   },
   "file_extension": ".py",
   "mimetype": "text/x-python",
   "name": "python",
   "nbconvert_exporter": "python",
   "pygments_lexer": "ipython3",
   "version": "3.10.4"
  }
 },
 "nbformat": 4,
 "nbformat_minor": 5
}
